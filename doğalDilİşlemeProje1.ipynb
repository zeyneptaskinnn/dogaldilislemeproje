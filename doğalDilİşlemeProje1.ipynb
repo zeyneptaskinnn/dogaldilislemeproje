{
  "nbformat": 4,
  "nbformat_minor": 0,
  "metadata": {
    "colab": {
      "provenance": [],
      "authorship_tag": "ABX9TyNgk2xFsaMzXXJv4HdWzuRy",
      "include_colab_link": true
    },
    "kernelspec": {
      "name": "python3",
      "display_name": "Python 3"
    },
    "language_info": {
      "name": "python"
    }
  },
  "cells": [
    {
      "cell_type": "markdown",
      "metadata": {
        "id": "view-in-github",
        "colab_type": "text"
      },
      "source": [
        "<a href=\"https://colab.research.google.com/github/zeyneptaskinnn/dogaldilislemeproje1/blob/main/do%C4%9FalDil%C4%B0%C5%9FlemeProje1.ipynb\" target=\"_parent\"><img src=\"https://colab.research.google.com/assets/colab-badge.svg\" alt=\"Open In Colab\"/></a>"
      ]
    },
    {
      "cell_type": "code",
      "source": [
        "# Dillerin en yaygın kelimelerinin kısa bir listesi.\n",
        "turkish_words = [\"ve\", \"bir\", \"bu\", \"için\", \"ile\", \"de\", \"ama\", \"gibi\", \"çünkü\"]\n",
        "english_words = [\"the\", \"be\", \"to\", \"of\", \"and\", \"in\", \"that\", \"have\", \"for\", \"is\", \"or\", \"can\"]\n",
        "german_words = [\"der\", \"die\", \"und\", \"in\", \"zu\", \"das\", \"nicht\", \"mit\", \"auf\"]\n",
        "french_words = [\"le\", \"de\", \"un\", \"être\", \"et\", \"en\", \"avoir\", \"que\", \"pour\"]\n",
        "spanish_words = [\"el\", \"de\", \"que\", \"y\", \"a\", \"la\", \"en\", \"un\", \"ser\"]\n",
        "\n",
        "# Kullanıcı metin girdiğinde dil tespiti yapan fonksiyon\n",
        "def detect_language(text):\n",
        "    words = text.lower().split()  # Metni küçük harfe çevirip kelimelere böleriz çünkü tek tek okuyabilmesi lazım.\n",
        "    scores = {\n",
        "        \"Türkçe\": sum(1 for word in words if word in turkish_words),\n",
        "        \"İngilizce\": sum(1 for word in words if word in english_words),\n",
        "        \"Almanca\": sum(1 for word in words if word in german_words),\n",
        "        \"Fransızca\": sum(1 for word in words if word in french_words),\n",
        "        \"İspanyolca\": sum(1 for word in words if word in spanish_words)\n",
        "    }\n",
        "\n",
        "    detected_language = max(scores, key=scores.get)\n",
        "\n",
        "    if scores[detected_language] == 0:\n",
        "        return \"Bu dil Türkçe, İngilizce, Almanca, Fransızca veya İspanyolca değil.\"\n",
        "    else:\n",
        "        return f\"Metin {detected_language} dilinde yazılmış.\"\n",
        "\n",
        "# Kullanıcıdan metin alma aşaması.\n",
        "metin = input(\"Lütfen bir metin girin: \")\n",
        "print(detect_language(metin))"
      ],
      "metadata": {
        "colab": {
          "base_uri": "https://localhost:8080/"
        },
        "id": "RBG2FXpShxdn",
        "outputId": "e6c1ee52-ddf7-48de-f1e6-6bda83f94e29"
      },
      "execution_count": 8,
      "outputs": [
        {
          "output_type": "stream",
          "name": "stdout",
          "text": [
            "Lütfen bir metin girin: zeynep is here\n",
            "Metin İngilizce dilinde yazılmış.\n"
          ]
        }
      ]
    }
  ]
}