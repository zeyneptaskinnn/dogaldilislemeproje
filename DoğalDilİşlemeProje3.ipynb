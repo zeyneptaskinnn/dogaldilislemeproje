{
  "nbformat": 4,
  "nbformat_minor": 0,
  "metadata": {
    "colab": {
      "provenance": [],
      "authorship_tag": "ABX9TyPRJpclK37L9p4bL3pp56Yi",
      "include_colab_link": true
    },
    "kernelspec": {
      "name": "python3",
      "display_name": "Python 3"
    },
    "language_info": {
      "name": "python"
    }
  },
  "cells": [
    {
      "cell_type": "markdown",
      "metadata": {
        "id": "view-in-github",
        "colab_type": "text"
      },
      "source": [
        "<a href=\"https://colab.research.google.com/github/zeyneptaskinnn/dogaldilislemeproje/blob/main/Do%C4%9FalDil%C4%B0%C5%9FlemeProje3.ipynb\" target=\"_parent\"><img src=\"https://colab.research.google.com/assets/colab-badge.svg\" alt=\"Open In Colab\"/></a>"
      ]
    },
    {
      "cell_type": "code",
      "source": [
        "!pip install langdetect"
      ],
      "metadata": {
        "colab": {
          "base_uri": "https://localhost:8080/"
        },
        "id": "06Wi0UeFe8Dr",
        "outputId": "76e8218c-b080-4156-91fd-f4c6514bbe63"
      },
      "execution_count": 2,
      "outputs": [
        {
          "output_type": "stream",
          "name": "stdout",
          "text": [
            "Collecting langdetect\n",
            "  Using cached langdetect-1.0.9-py3-none-any.whl\n",
            "Requirement already satisfied: six in /usr/local/lib/python3.10/dist-packages (from langdetect) (1.16.0)\n",
            "Installing collected packages: langdetect\n",
            "Successfully installed langdetect-1.0.9\n"
          ]
        }
      ]
    },
    {
      "cell_type": "code",
      "source": [
        "# Kütüphaneyi içe aktarma\n",
        "from langdetect import detect\n",
        "\n",
        "# Kullanıcıdan metin alma\n",
        "metin = input(\"Lütfen dilini tespit etmek istediğiniz metni girin: \")\n",
        "\n",
        "# Dil tespiti yapma\n",
        "dil_kodu = detect(metin)\n",
        "\n",
        "# Dil kodunu dil ismine eşleme\n",
        "diller = {\n",
        "    \"tr\": \"Türkçe\",\n",
        "    \"en\": \"İngilizce\",\n",
        "    \"de\": \"Almanca\",\n",
        "    \"fr\": \"Fransızca\",\n",
        "    \"es\": \"İspanyolca\"\n",
        "}\n",
        "\n",
        "# Algılanan dili gösterme\n",
        "if dil_kodu in diller:\n",
        "    dil = diller[dil_kodu]\n",
        "else:\n",
        "    dil = \"Bilinmeyen bir dil\"\n",
        "\n",
        "print(\"Metnin dili:\", dil)"
      ],
      "metadata": {
        "colab": {
          "base_uri": "https://localhost:8080/"
        },
        "id": "JH7zzdFcfAjK",
        "outputId": "12ceba27-5582-4610-ddc0-62b6f75118d5"
      },
      "execution_count": 3,
      "outputs": [
        {
          "output_type": "stream",
          "name": "stdout",
          "text": [
            "Lütfen dilini tespit etmek istediğiniz metni girin: Das Wetter ist heute sehr schön. Ich freue mich auf das Wochenende.\n",
            "Metnin dili: Almanca\n"
          ]
        }
      ]
    }
  ]
}