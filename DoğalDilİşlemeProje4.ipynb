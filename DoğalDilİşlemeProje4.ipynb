{
  "nbformat": 4,
  "nbformat_minor": 0,
  "metadata": {
    "colab": {
      "provenance": [],
      "authorship_tag": "ABX9TyNNffpUNfGihVpV3vznB/uZ",
      "include_colab_link": true
    },
    "kernelspec": {
      "name": "python3",
      "display_name": "Python 3"
    },
    "language_info": {
      "name": "python"
    }
  },
  "cells": [
    {
      "cell_type": "markdown",
      "metadata": {
        "id": "view-in-github",
        "colab_type": "text"
      },
      "source": [
        "<a href=\"https://colab.research.google.com/github/zeyneptaskinnn/dogaldilislemeproje/blob/main/Do%C4%9FalDil%C4%B0%C5%9FlemeProje4.ipynb\" target=\"_parent\"><img src=\"https://colab.research.google.com/assets/colab-badge.svg\" alt=\"Open In Colab\"/></a>"
      ]
    },
    {
      "cell_type": "code",
      "execution_count": 1,
      "metadata": {
        "colab": {
          "base_uri": "https://localhost:8080/"
        },
        "id": "0veS10HKfsl6",
        "outputId": "001fd40c-7313-4df2-d4bc-65cfbee8eff0"
      },
      "outputs": [
        {
          "output_type": "stream",
          "name": "stdout",
          "text": [
            "Requirement already satisfied: scikit-learn in /usr/local/lib/python3.10/dist-packages (1.5.2)\n",
            "Requirement already satisfied: numpy>=1.19.5 in /usr/local/lib/python3.10/dist-packages (from scikit-learn) (1.26.4)\n",
            "Requirement already satisfied: scipy>=1.6.0 in /usr/local/lib/python3.10/dist-packages (from scikit-learn) (1.13.1)\n",
            "Requirement already satisfied: joblib>=1.2.0 in /usr/local/lib/python3.10/dist-packages (from scikit-learn) (1.4.2)\n",
            "Requirement already satisfied: threadpoolctl>=3.1.0 in /usr/local/lib/python3.10/dist-packages (from scikit-learn) (3.5.0)\n"
          ]
        }
      ],
      "source": [
        "!pip install scikit-learn"
      ]
    },
    {
      "cell_type": "code",
      "source": [
        "# Kütüphaneleri içe aktarma\n",
        "from sklearn.feature_extraction.text import CountVectorizer\n",
        "from sklearn.naive_bayes import MultinomialNB\n",
        "from sklearn.pipeline import make_pipeline\n",
        "\n",
        "# Eğitim verisini oluşturma\n",
        "konu_basliklari = [\"Siyaset\", \"Teknoloji\", \"Spor\", \"Sağlık\", \"Eğlence\"]\n",
        "metinler = [\n",
        "    \"Seçimler yaklaşıyor ve tüm partiler kampanyalarına başladı.\",\n",
        "    \"Yapay zeka ve makine öğrenimi hızla gelişiyor.\",\n",
        "    \"Futbol ligi bu sezon çok heyecanlı geçiyor.\",\n",
        "    \"Dengeli beslenme ve düzenli egzersiz sağlığı korur.\",\n",
        "    \"Yeni çıkan filmler ve diziler izleyicilerden ilgi görüyor.\"\n",
        "]\n",
        "etiketler = [\"Siyaset\", \"Teknoloji\", \"Spor\", \"Sağlık\", \"Eğlence\"]\n",
        "\n",
        "# Pipeline ve modeli oluşturma\n",
        "model = make_pipeline(CountVectorizer(), MultinomialNB())\n",
        "model.fit(metinler, etiketler)\n",
        "\n",
        "# Kullanıcıdan metin alma\n",
        "metin = input(\"Lütfen konu başlığını tespit etmek istediğiniz metni girin: \")\n",
        "\n",
        "# Tahmin yapma\n",
        "tahmin = model.predict([metin])[0]\n",
        "\n",
        "# Sonucu gösterme\n",
        "if tahmin in konu_basliklari:\n",
        "    print(\"Metnin konu başlığı:\", tahmin)\n",
        "else:\n",
        "    print(\"Metin 'diğer konular' grubuna giriyor.\")"
      ],
      "metadata": {
        "colab": {
          "base_uri": "https://localhost:8080/"
        },
        "id": "AyXJe0LcgBSG",
        "outputId": "f97b2711-d92c-4a49-9641-02acea481af7"
      },
      "execution_count": 3,
      "outputs": [
        {
          "output_type": "stream",
          "name": "stdout",
          "text": [
            "Lütfen konu başlığını tespit etmek istediğiniz metni girin: Bu hafta vizyona giren yeni bir film büyük ilgi gördü. Konser biletleri ise kısa sürede tükendi.\n",
            "Metnin konu başlığı: Eğlence\n"
          ]
        }
      ]
    }
  ]
}