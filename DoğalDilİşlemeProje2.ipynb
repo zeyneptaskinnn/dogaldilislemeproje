{
  "nbformat": 4,
  "nbformat_minor": 0,
  "metadata": {
    "colab": {
      "provenance": [],
      "authorship_tag": "ABX9TyNRsEbBPn1K95iw2JP0M6pt",
      "include_colab_link": true
    },
    "kernelspec": {
      "name": "python3",
      "display_name": "Python 3"
    },
    "language_info": {
      "name": "python"
    }
  },
  "cells": [
    {
      "cell_type": "markdown",
      "metadata": {
        "id": "view-in-github",
        "colab_type": "text"
      },
      "source": [
        "<a href=\"https://colab.research.google.com/github/zeyneptaskinnn/dogaldilislemeproje/blob/main/Do%C4%9FalDil%C4%B0%C5%9FlemeProje2.ipynb\" target=\"_parent\"><img src=\"https://colab.research.google.com/assets/colab-badge.svg\" alt=\"Open In Colab\"/></a>"
      ]
    },
    {
      "cell_type": "code",
      "source": [
        "# Adım 1: Anahtar kelime listeleri\n",
        "siyaset_keywords = [\"hükümet\", \"politik\", \"seçim\", \"parlamento\", \"kanun\"]\n",
        "teknoloji_keywords = [\"bilgisayar\", \"yapay zeka\", \"internet\", \"robot\", \"teknoloji\"]\n",
        "spor_keywords = [\"futbol\", \"basketbol\", \"yarış\", \"antrenman\", \"takım\"]\n",
        "saglik_keywords = [\"hastane\", \"doktor\", \"tedavi\", \"ilaç\", \"sağlık\"]\n",
        "eglence_keywords = [\"film\", \"müzik\", \"oyun\", \"konser\", \"şov\"]\n",
        "\n",
        "konu_keywords = {\n",
        "    \"Siyaset\": siyaset_keywords,\n",
        "    \"Teknoloji\": teknoloji_keywords,\n",
        "    \"Spor\": spor_keywords,\n",
        "    \"Sağlık\": saglik_keywords,\n",
        "    \"Eğlence\": eglence_keywords\n",
        "}\n",
        "\n",
        "# Adım 2: Kullanıcıdan metin alma\n",
        "metin = input(\"Lütfen değerlendirmek istediğiniz metni girin: \").lower()\n",
        "\n",
        "# Adım 3: Kelimelere ayırma ve eşleşme sayma\n",
        "kelimeler = metin.split()\n",
        "eslesme_sayilari = { \"Siyaset\": 0, \"Teknoloji\": 0, \"Spor\": 0, \"Sağlık\": 0, \"Eğlence\": 0 }\n",
        "\n",
        "for kelime in kelimeler:\n",
        "    for konu, keywords in konu_keywords.items():\n",
        "        if kelime in keywords:\n",
        "            eslesme_sayilari[konu] += 1\n",
        "\n",
        "# Adım 4: En uygun konuyu belirleme\n",
        "en_uygun_konu = max(eslesme_sayilari, key=eslesme_sayilari.get)\n",
        "if eslesme_sayilari[en_uygun_konu] == 0:\n",
        "    en_uygun_konu = \"Diğer Konular\"\n",
        "\n",
        "print(\"Metin en çok\", en_uygun_konu, \"konusu ile ilgilidir.\")"
      ],
      "metadata": {
        "colab": {
          "base_uri": "https://localhost:8080/"
        },
        "id": "HphXSw4tZhOJ",
        "outputId": "0012df88-967a-4672-d162-2897da6ab1c5"
      },
      "execution_count": 1,
      "outputs": [
        {
          "output_type": "stream",
          "name": "stdout",
          "text": [
            "Lütfen değerlendirmek istediğiniz metni girin: Yapay zeka günümüzde birçok alanda kullanılmaktadır. İnternet bağlantısı sayesinde cihazlar arası veri aktarımı hızlı bir şekilde gerçekleşiyor. Bilgisayar teknolojileri her geçen gün gelişiyor ve hayatımızı kolaylaştırıyor.\n",
            "Metin en çok Teknoloji konusu ile ilgilidir.\n"
          ]
        }
      ]
    }
  ]
}